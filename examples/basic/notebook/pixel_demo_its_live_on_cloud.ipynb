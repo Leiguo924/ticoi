{
 "cells": [
  {
   "metadata": {},
   "cell_type": "markdown",
   "source": "# <center> How to apply TICOI on one pixel of a cube stored on the ITS_LIVE Amazon S3 Cloud ? </center>",
   "id": "56d8fedb618ee78f"
  },
  {
   "metadata": {},
   "cell_type": "markdown",
   "source": [
    "For this demonstration we are going to use the test data available on the git repository.\n",
    "But you can modify it to use your one dataset!"
   ],
   "id": "e34ff3d69afea8fd"
  },
  {
   "metadata": {
    "ExecuteTime": {
     "end_time": "2025-04-25T09:07:11.358516Z",
     "start_time": "2025-04-25T09:07:10.364543Z"
    }
   },
   "cell_type": "code",
   "source": [
    "import os\n",
    "from ticoi.core import ticoi_one_pixel\n",
    "from ticoi.utils import find_granule_by_point"
   ],
   "id": "f2a3d1194655b987",
   "outputs": [],
   "execution_count": 1
  },
  {
   "metadata": {},
   "cell_type": "markdown",
   "source": "#### 1) Here are the demo specific variables that you should modify for your one dataset:",
   "id": "33a6fedb30fccb33"
  },
  {
   "metadata": {
    "ExecuteTime": {
     "end_time": "2025-04-25T09:07:11.365133Z",
     "start_time": "2025-04-25T09:07:11.362162Z"
    }
   },
   "cell_type": "code",
   "source": [
    "path_save = f'{os.path.abspath(os.path.join(os.getcwd(), \"..\",\"..\", \"results\", \"pixel\"))}/'# path where to save our results\n",
    "i, j = -138.18069, 60.29076# coordinate of the pixel\n",
    "pick_dates = [\"2015-01-01\", \"2024-01-01\"]# date range to study"
   ],
   "id": "f7e33ef589b089d6",
   "outputs": [],
   "execution_count": 2
  },
  {
   "metadata": {},
   "cell_type": "markdown",
   "source": [
    "#### 2) Then, let's define the main TICOI parameters\n",
    "\n",
    "- Processing parameters"
   ],
   "id": "c12b18e58764bf"
  },
  {
   "metadata": {
    "ExecuteTime": {
     "end_time": "2025-04-25T09:07:11.428352Z",
     "start_time": "2025-04-25T09:07:11.425791Z"
    }
   },
   "cell_type": "code",
   "source": [
    "coef = 100  # Regularization coefficient to be used\n",
    "delete_outliers = {\"median_angle\": 45} #Remove the observation if its direction is 45° away from the direction of the median vector"
   ],
   "id": "7a4d486c5e48e201",
   "outputs": [],
   "execution_count": 3
  },
  {
   "metadata": {},
   "cell_type": "markdown",
   "source": "- Visualization parameters",
   "id": "99237c3cb34d296c"
  },
  {
   "metadata": {
    "ExecuteTime": {
     "end_time": "2025-04-25T09:07:11.474612Z",
     "start_time": "2025-04-25T09:07:11.471188Z"
    }
   },
   "cell_type": "code",
   "source": [
    "save = False  # Save the results and figures\n",
    "show = True  # Plot some figures\n",
    "option_visual = [\"obs_magnitude\", \"invertvv_overlaid\", \"quality_metrics\"] #check README_visualization_pixel_output to see the different options .\n",
    "result_quality = [\n",
    "    \"Error_propagation\",\n",
    "    \"X_contribution\",\n",
    "]  # Criterium used to evaluate the quality of the results: (\"Error_propagation\": the initial error given in the dataset is propagated through the inversion; \"X_contribution\" correspond to the number of observed velocity used to estimate each estimated value"
   ],
   "id": "e3fa58965fd53e99",
   "outputs": [],
   "execution_count": 4
  },
  {
   "metadata": {},
   "cell_type": "markdown",
   "source": "#### 4) Now, wa can automatically look for the link of the cube, in the ITS_LIVE catalog",
   "id": "5e87247de0e464e0"
  },
  {
   "metadata": {
    "ExecuteTime": {
     "end_time": "2025-04-25T09:07:28.302158Z",
     "start_time": "2025-04-25T09:07:11.523525Z"
    }
   },
   "cell_type": "code",
   "source": "url_ls = find_granule_by_point([i, j])",
   "id": "7551f7c20134a46a",
   "outputs": [],
   "execution_count": 5
  },
  {
   "metadata": {},
   "cell_type": "markdown",
   "source": "#### 5) To finish, we just have to run ticoi on our pixel!",
   "id": "ca9e5416871fd03e"
  },
  {
   "metadata": {
    "jupyter": {
     "is_executing": true
    },
    "ExecuteTime": {
     "start_time": "2025-04-25T09:07:28.306849Z"
    }
   },
   "cell_type": "code",
   "source": "data,dataf,dataf_lp = ticoi_one_pixel(cube_name=url_ls,i=i,j=j,save=save,path_save=path_save,show=show,option_visual=option_visual,load_kwargs={\"pick_date\":pick_dates,\"buffer\": [i, j, 0.1]},load_pixel_kwargs={\"visual\":show},preData_kwargs={\"delete_outliers\":delete_outliers},inversion_kwargs = {\"coef\":coef,\"result_quality\":result_quality,\"visual\":show},interpolation_kwargs = {\"result_quality\":result_quality})",
   "id": "db1be5232a14258c",
   "outputs": [],
   "execution_count": null
  },
  {
   "metadata": {},
   "cell_type": "markdown",
   "source": "",
   "id": "cfd997055d82efd"
  }
 ],
 "metadata": {
  "kernelspec": {
   "display_name": "Python 3",
   "language": "python",
   "name": "python3"
  },
  "language_info": {
   "codemirror_mode": {
    "name": "ipython",
    "version": 2
   },
   "file_extension": ".py",
   "mimetype": "text/x-python",
   "name": "python",
   "nbconvert_exporter": "python",
   "pygments_lexer": "ipython2",
   "version": "2.7.6"
  }
 },
 "nbformat": 4,
 "nbformat_minor": 5
}
