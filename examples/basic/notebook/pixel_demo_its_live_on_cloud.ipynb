{
 "cells": [
  {
   "cell_type": "markdown",
   "id": "56d8fedb618ee78f",
   "metadata": {},
   "source": [
    "# <center> How to apply TICOI on one pixel of a cube stored on the ITS_LIVE Amazon S3 Cloud ? </center>"
   ]
  },
  {
   "cell_type": "markdown",
   "id": "e34ff3d69afea8fd",
   "metadata": {},
   "source": [
    "For this demonstration, we are going to use the test data available on the git repository.\n",
    "But you can modify it to use your one dataset!"
   ]
  },
  {
   "cell_type": "code",
   "id": "f2a3d1194655b987",
   "metadata": {
    "execution": {
     "iopub.execute_input": "2025-09-25T16:15:57.712113Z",
     "iopub.status.busy": "2025-09-25T16:15:57.711719Z",
     "iopub.status.idle": "2025-09-25T16:15:59.875456Z",
     "shell.execute_reply": "2025-09-25T16:15:59.874508Z"
    },
    "ExecuteTime": {
     "end_time": "2025-09-25T16:18:23.421184Z",
     "start_time": "2025-09-25T16:18:21.598011Z"
    }
   },
   "source": [
    "import os\n",
    "from ticoi.core import ticoi_one_pixel\n",
    "from ticoi.utils import find_granule_by_point"
   ],
   "outputs": [],
   "execution_count": 1
  },
  {
   "cell_type": "markdown",
   "id": "33a6fedb30fccb33",
   "metadata": {},
   "source": [
    "#### 1) Here are the demo specific variables that you should modify for your one dataset:"
   ]
  },
  {
   "cell_type": "code",
   "id": "f7e33ef589b089d6",
   "metadata": {
    "execution": {
     "iopub.execute_input": "2025-09-25T16:15:59.879340Z",
     "iopub.status.busy": "2025-09-25T16:15:59.878896Z",
     "iopub.status.idle": "2025-09-25T16:15:59.883095Z",
     "shell.execute_reply": "2025-09-25T16:15:59.882395Z"
    },
    "ExecuteTime": {
     "end_time": "2025-09-25T16:18:23.440636Z",
     "start_time": "2025-09-25T16:18:23.435408Z"
    }
   },
   "source": [
    "i, j = -140.84746241412898, 60.08936753843976\n",
    "pick_dates = [\"2015-01-01\", \"2024-01-01\"]# date range to study"
   ],
   "outputs": [],
   "execution_count": 2
  },
  {
   "cell_type": "markdown",
   "id": "c12b18e58764bf",
   "metadata": {},
   "source": [
    "#### 2) Then, let's define the main TICOI parameters\n",
    "\n",
    "- Processing parameters"
   ]
  },
  {
   "cell_type": "code",
   "id": "7a4d486c5e48e201",
   "metadata": {
    "execution": {
     "iopub.execute_input": "2025-09-25T16:15:59.885617Z",
     "iopub.status.busy": "2025-09-25T16:15:59.885414Z",
     "iopub.status.idle": "2025-09-25T16:15:59.888695Z",
     "shell.execute_reply": "2025-09-25T16:15:59.888155Z"
    },
    "ExecuteTime": {
     "end_time": "2025-09-25T16:18:23.532128Z",
     "start_time": "2025-09-25T16:18:23.528401Z"
    }
   },
   "source": [
    "coef = 500  # Regularization coefficient to be used\n",
    "delete_outliers = {\"median_angle\": 45} #Remove the observation if its direction is 45° away from the direction of the median vector"
   ],
   "outputs": [],
   "execution_count": 3
  },
  {
   "cell_type": "markdown",
   "id": "99237c3cb34d296c",
   "metadata": {},
   "source": [
    "- Visualization parameters"
   ]
  },
  {
   "cell_type": "code",
   "id": "e3fa58965fd53e99",
   "metadata": {
    "execution": {
     "iopub.execute_input": "2025-09-25T16:15:59.891515Z",
     "iopub.status.busy": "2025-09-25T16:15:59.891182Z",
     "iopub.status.idle": "2025-09-25T16:15:59.895665Z",
     "shell.execute_reply": "2025-09-25T16:15:59.895112Z"
    },
    "ExecuteTime": {
     "end_time": "2025-09-25T16:18:23.587594Z",
     "start_time": "2025-09-25T16:18:23.582376Z"
    }
   },
   "source": [
    "save = False  # Save the results and figures\n",
    "path_save = f'To_fill_if_save_if_True'# path where to save our results\n",
    "show = True  # Plot some figures\n",
    "option_visual = [\"obs_magnitude\", \"invertvv\", \"inverpvv\", \"quality_metrics\"] #check README_visualization_pixel_output to see the different options .\n",
    "result_quality = [\n",
    "    \"X_contribution\",\n",
    "]  # Criterium used to evaluate the quality of the results: (\"Error_propagation\": the initial error given in the dataset is propagated through the inversion; \"X_contribution\" correspond to the number of observed velocity used to estimate each estimated value"
   ],
   "outputs": [],
   "execution_count": 4
  },
  {
   "cell_type": "markdown",
   "id": "5e87247de0e464e0",
   "metadata": {},
   "source": [
    "#### 4) Now, we can automatically look for the url of the cube, in the ITS_LIVE catalog"
   ]
  },
  {
   "cell_type": "code",
   "id": "7551f7c20134a46a",
   "metadata": {
    "execution": {
     "iopub.execute_input": "2025-09-25T16:15:59.899195Z",
     "iopub.status.busy": "2025-09-25T16:15:59.898553Z",
     "iopub.status.idle": "2025-09-25T16:16:10.860377Z",
     "shell.execute_reply": "2025-09-25T16:16:10.859624Z"
    },
    "ExecuteTime": {
     "end_time": "2025-09-25T16:18:35.089063Z",
     "start_time": "2025-09-25T16:18:23.638136Z"
    }
   },
   "source": [
    "url_ls = find_granule_by_point([i, j])"
   ],
   "outputs": [],
   "execution_count": 5
  },
  {
   "cell_type": "code",
   "id": "5ec34c95a0e01118",
   "metadata": {
    "execution": {
     "iopub.execute_input": "2025-09-25T16:16:10.863011Z",
     "iopub.status.busy": "2025-09-25T16:16:10.862815Z",
     "iopub.status.idle": "2025-09-25T16:16:10.866189Z",
     "shell.execute_reply": "2025-09-25T16:16:10.865630Z"
    },
    "ExecuteTime": {
     "end_time": "2025-09-25T16:18:35.105372Z",
     "start_time": "2025-09-25T16:18:35.102443Z"
    }
   },
   "source": [
    "if save and not os.path.exists(path_save):\n",
    "    os.mkdir(path_save)"
   ],
   "outputs": [],
   "execution_count": 6
  },
  {
   "cell_type": "markdown",
   "id": "ca9e5416871fd03e",
   "metadata": {},
   "source": [
    "#### 5) To finish, we just have to run ticoi on our pixel!"
   ]
  },
  {
   "cell_type": "code",
   "id": "db1be5232a14258c",
   "metadata": {
    "execution": {
     "iopub.execute_input": "2025-09-25T16:16:10.868402Z",
     "iopub.status.busy": "2025-09-25T16:16:10.868252Z",
     "iopub.status.idle": "2025-09-25T16:16:43.283570Z",
     "shell.execute_reply": "2025-09-25T16:16:43.282705Z"
    },
    "jupyter": {
     "is_executing": true
    },
    "ExecuteTime": {
     "start_time": "2025-09-25T16:18:35.156531Z"
    }
   },
   "source": [
    "data,dataf,dataf_lp = ticoi_one_pixel(cube_name=url_ls,i=i,j=j,save=save,path_save=path_save,show=show,option_visual=option_visual,load_kwargs={\"pick_date\":pick_dates,\"buffer\": [i, j, 0.01],\"chunks\": {}},load_pixel_kwargs={\"visual\":show},preData_kwargs={\"delete_outliers\":delete_outliers},inversion_kwargs = {\"coef\":coef,\"result_quality\":result_quality,\"visual\":show},interpolation_kwargs = {\"result_quality\":result_quality})"
   ],
   "outputs": [],
   "execution_count": null
  }
 ],
 "metadata": {
  "kernelspec": {
   "display_name": "Python 3",
   "language": "python",
   "name": "python3"
  },
  "language_info": {
   "codemirror_mode": {
    "name": "ipython",
    "version": 3
   },
   "file_extension": ".py",
   "mimetype": "text/x-python",
   "name": "python",
   "nbconvert_exporter": "python",
   "pygments_lexer": "ipython3",
   "version": "3.11.11"
  }
 },
 "nbformat": 4,
 "nbformat_minor": 5
}
